{
  "nbformat": 4,
  "nbformat_minor": 0,
  "metadata": {
    "colab": {
      "provenance": []
    },
    "kernelspec": {
      "name": "python3",
      "display_name": "Python 3"
    },
    "language_info": {
      "name": "python"
    }
  },
  "cells": [
    {
      "cell_type": "code",
      "execution_count": 20,
      "metadata": {
        "colab": {
          "base_uri": "https://localhost:8080/"
        },
        "id": "wClGm0YtrfYD",
        "outputId": "0acc4407-e972-4942-bd55-5995378373d4"
      },
      "outputs": [
        {
          "output_type": "stream",
          "name": "stdout",
          "text": [
            "Colab only includes TensorFlow 2.x; %tensorflow_version has no effect.\n"
          ]
        }
      ],
      "source": [
        "%tensorflow_version 2.x\n",
        "import tensorflow as tf\n",
        "from tensorflow import keras\n",
        "from tensorflow.keras.layers import Dense, GlobalAveragePooling2D\n",
        "from tensorflow.keras.models import Model\n",
        "from tensorflow.keras.optimizers import Adam\n",
        "from tensorflow.keras.metrics import categorical_crossentropy\n",
        "from tensorflow.keras.preprocessing.image import ImageDataGenerator\n",
        "from sklearn.metrics import ConfusionMatrixDisplay\n",
        "from sklearn.metrics import confusion_matrix"
      ]
    },
    {
      "cell_type": "code",
      "source": [
        "train_path=\"/content/drive/MyDrive/dataset/train\"\n",
        "validation_path=\"/content/drive/MyDrive/dataset/validation\"\n",
        "test_path=\"/content/drive/MyDrive/dataset/test\""
      ],
      "metadata": {
        "id": "98D0iaDHrwM-"
      },
      "execution_count": 21,
      "outputs": []
    },
    {
      "cell_type": "code",
      "source": [
        "train_batches = ImageDataGenerator(preprocessing_function = keras.applications.mobilenet_v2.preprocess_input).flow_from_directory(train_path, target_size=(224,224), batch_size=32)\n",
        "validation_batches = ImageDataGenerator(preprocessing_function = keras.applications.mobilenet_v2.preprocess_input).flow_from_directory(validation_path, target_size=(224,224), batch_size=32)\n",
        "test_batches = ImageDataGenerator(preprocessing_function = keras.applications.mobilenet_v2.preprocess_input).flow_from_directory(test_path, target_size=(224,224), batch_size=32, shuffle=False)"
      ],
      "metadata": {
        "colab": {
          "base_uri": "https://localhost:8080/"
        },
        "id": "bjr2DzCpr4ku",
        "outputId": "3c7b8e7b-7fc1-4148-e553-2df3df52d370"
      },
      "execution_count": 22,
      "outputs": [
        {
          "output_type": "stream",
          "name": "stdout",
          "text": [
            "Found 350 images belonging to 5 classes.\n",
            "Found 100 images belonging to 5 classes.\n",
            "Found 50 images belonging to 5 classes.\n"
          ]
        }
      ]
    },
    {
      "cell_type": "code",
      "source": [
        "IMG_SHAPE = (224,224,3)\n",
        "base_model = tf.keras.applications.MobileNetV2(include_top=False,\n",
        "                                               weights= 'imagenet',\n",
        "                                               input_shape = IMG_SHAPE)"
      ],
      "metadata": {
        "id": "w3yPUZVTr-ir"
      },
      "execution_count": 23,
      "outputs": []
    },
    {
      "cell_type": "code",
      "source": [
        "base_model.summary()"
      ],
      "metadata": {
        "id": "QRA40yZ3s1sj"
      },
      "execution_count": null,
      "outputs": []
    },
    {
      "cell_type": "code",
      "source": [
        "base_model.trainable=False\n",
        "base_model.summary()"
      ],
      "metadata": {
        "id": "lNeJw1rCtscN"
      },
      "execution_count": null,
      "outputs": []
    },
    {
      "cell_type": "code",
      "source": [
        "x = base_model.output\n",
        "x = GlobalAveragePooling2D()(x)\n",
        "x = tf.keras.layers.Dropout(0.2)(x)\n",
        "x = Dense(512, activation='relu')(x)\n",
        "x = tf.keras.layers.Dropout(0.1)(x)\n",
        "preds = Dense(5, activation='softmax')(x)\n",
        "\n",
        "model=Model(inputs=base_model.input, outputs=preds)"
      ],
      "metadata": {
        "id": "OACDMSuUt7RX"
      },
      "execution_count": 46,
      "outputs": []
    },
    {
      "cell_type": "code",
      "source": [
        "epochs = 10\n",
        "optimizer=Adam(learning_rate=0.0001)\n",
        "model.compile(loss='categorical_crossentropy', optimizer=optimizer, metrics=['accuracy'])\n"
      ],
      "metadata": {
        "id": "NXA5uxF1vF9V"
      },
      "execution_count": 47,
      "outputs": []
    },
    {
      "cell_type": "code",
      "source": [
        "history = model.fit(train_batches, validation_data=validation_batches, epochs=epochs)"
      ],
      "metadata": {
        "colab": {
          "base_uri": "https://localhost:8080/"
        },
        "id": "Az00hheTFbGb",
        "outputId": "7c452156-dbfd-4004-93b7-e1d5045bbec4"
      },
      "execution_count": 49,
      "outputs": [
        {
          "output_type": "stream",
          "name": "stdout",
          "text": [
            "Epoch 1/10\n",
            "11/11 [==============================] - 22s 2s/step - loss: 1.5873 - accuracy: 0.3314 - val_loss: 1.0247 - val_accuracy: 0.7700\n",
            "Epoch 2/10\n",
            "11/11 [==============================] - 21s 2s/step - loss: 0.8688 - accuracy: 0.7457 - val_loss: 0.5334 - val_accuracy: 0.9200\n",
            "Epoch 3/10\n",
            "11/11 [==============================] - 20s 2s/step - loss: 0.4906 - accuracy: 0.9429 - val_loss: 0.3289 - val_accuracy: 0.9600\n",
            "Epoch 4/10\n",
            "11/11 [==============================] - 20s 2s/step - loss: 0.3067 - accuracy: 0.9486 - val_loss: 0.2276 - val_accuracy: 0.9500\n",
            "Epoch 5/10\n",
            "11/11 [==============================] - 20s 2s/step - loss: 0.2147 - accuracy: 0.9857 - val_loss: 0.1707 - val_accuracy: 0.9700\n",
            "Epoch 6/10\n",
            "11/11 [==============================] - 20s 2s/step - loss: 0.1464 - accuracy: 0.9943 - val_loss: 0.1399 - val_accuracy: 0.9700\n",
            "Epoch 7/10\n",
            "11/11 [==============================] - 25s 2s/step - loss: 0.1212 - accuracy: 0.9857 - val_loss: 0.1179 - val_accuracy: 0.9700\n",
            "Epoch 8/10\n",
            "11/11 [==============================] - 21s 2s/step - loss: 0.0972 - accuracy: 1.0000 - val_loss: 0.1049 - val_accuracy: 0.9700\n",
            "Epoch 9/10\n",
            "11/11 [==============================] - 20s 2s/step - loss: 0.0805 - accuracy: 1.0000 - val_loss: 0.0937 - val_accuracy: 0.9800\n",
            "Epoch 10/10\n",
            "11/11 [==============================] - 20s 2s/step - loss: 0.0736 - accuracy: 0.9971 - val_loss: 0.0851 - val_accuracy: 0.9800\n"
          ]
        }
      ]
    },
    {
      "cell_type": "code",
      "source": [
        "test_labels = test_batches.classes\n",
        "preds = model.predict(test_batches, verbose=0)\n",
        "cm = confusion_matrix(y_true=test_labels, y_pred=preds.argmax(axis=1))\n",
        "test_batches.class_indices"
      ],
      "metadata": {
        "colab": {
          "base_uri": "https://localhost:8080/"
        },
        "id": "woi_T-oKHJaO",
        "outputId": "9de8bf59-5a3b-43ed-ddb3-e802043a30e5"
      },
      "execution_count": 50,
      "outputs": [
        {
          "output_type": "execute_result",
          "data": {
            "text/plain": [
              "{'chinesemoneyplant': 0,\n",
              " 'dragontree': 1,\n",
              " 'orchid': 2,\n",
              " 'rubberplant': 3,\n",
              " 'snakeplant': 4}"
            ]
          },
          "metadata": {},
          "execution_count": 50
        }
      ]
    },
    {
      "cell_type": "code",
      "source": [
        "cm_plot_labels = ['chi', 'dra', 'orc', 'rub', 'sna']\n",
        "disp = ConfusionMatrixDisplay(confusion_matrix=cm, display_labels=cm_plot_labels)\n",
        "disp.plot()"
      ],
      "metadata": {
        "colab": {
          "base_uri": "https://localhost:8080/",
          "height": 300
        },
        "id": "1zvcFXUkHNHc",
        "outputId": "96fde2b8-fb57-4bad-cc64-7bffe8665fc7"
      },
      "execution_count": 51,
      "outputs": [
        {
          "output_type": "execute_result",
          "data": {
            "text/plain": [
              "<sklearn.metrics._plot.confusion_matrix.ConfusionMatrixDisplay at 0x7f5541c06a50>"
            ]
          },
          "metadata": {},
          "execution_count": 51
        },
        {
          "output_type": "display_data",
          "data": {
            "text/plain": [
              "<Figure size 432x288 with 2 Axes>"
            ],
            "image/png": "[encoded data removed]"
          },
          "metadata": {
            "needs_background": "light"
          }
        }
      ]
    },
    {
      "cell_type": "code",
      "source": [
        "model.evaluate(test_batches, verbose=2)"
      ],
      "metadata": {
        "colab": {
          "base_uri": "https://localhost:8080/"
        },
        "id": "KDXxTa8uHtXT",
        "outputId": "8f6e0128-1a18-4052-f407-abde3af4d94d"
      },
      "execution_count": 52,
      "outputs": [
        {
          "output_type": "stream",
          "name": "stdout",
          "text": [
            "2/2 - 2s - loss: 0.0842 - accuracy: 0.9800 - 2s/epoch - 1s/step\n"
          ]
        },
        {
          "output_type": "execute_result",
          "data": {
            "text/plain": [
              "[0.08420682698488235, 0.9800000190734863]"
            ]
          },
          "metadata": {},
          "execution_count": 52
        }
      ]
    },
    {
      "cell_type": "code",
      "source": [
        "# Plot model performance \n",
        "import matplotlib.pylab as plt\n",
        "acc = history.history['accuracy']\n",
        "val_accuracy = history.history['val_accuracy']\n",
        "loss = history.history['loss']\n",
        "val_loss = history.history['val_loss']\n",
        "\n",
        "\n",
        "plt.plot(acc, label='Training Accuracy')\n",
        "plt.plot(val_accuracy, label='Validation Accuracy')\n",
        "plt.ylabel('Accuracy')\n",
        "plt.xlabel('Epoch')\n",
        "plt.title('Model Accuracy')\n",
        "plt.legend(loc='lower right')\n",
        "plt.show()\n",
        "\n",
        "plt.plot(loss, label='Training Loss')\n",
        "plt.plot(val_loss, label='Validation Loss')\n",
        "plt.ylabel('Loss')\n",
        "plt.xlabel('Epoch')\n",
        "plt.title('Model Loss')\n",
        "plt.legend(loc='upper right')\n",
        "plt.show()"
      ],
      "metadata": {
        "colab": {
          "base_uri": "https://localhost:8080/",
          "height": 573
        },
        "id": "C6_FATN0Or6P",
        "outputId": "e4b3cbe9-6bff-4f1e-e4d6-3c260135d74a"
      },
      "execution_count": 54,
      "outputs": [
        {
          "output_type": "display_data",
          "data": {
            "text/plain": [
              "<Figure size 432x288 with 1 Axes>"
            ],
            "image/png": "[encoded data removed]"
          },
          "metadata": {
            "needs_background": "light"
          }
        },
        {
          "output_type": "display_data",
          "data": {
            "text/plain": [
              "<Figure size 432x288 with 1 Axes>"
            ],
            "image/png": "[encoded data removed]"
          },
          "metadata": {
            "needs_background": "light"
          }
        }
      ]
    }
  ]
}