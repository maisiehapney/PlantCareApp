{
  "nbformat": 4,
  "nbformat_minor": 0,
  "metadata": {
    "colab": {
      "provenance": []
    },
    "kernelspec": {
      "name": "python3",
      "display_name": "Python 3"
    },
    "language_info": {
      "name": "python"
    }
  },
  "cells": [
    {
      "cell_type": "code",
      "execution_count": null,
      "metadata": {
        "id": "KXVOR2a36gNU",
        "colab": {
          "base_uri": "https://localhost:8080/"
        },
        "outputId": "9ecb4967-512c-4416-d50a-3d61ddc151df"
      },
      "outputs": [
        {
          "output_type": "stream",
          "name": "stdout",
          "text": [
            "Colab only includes TensorFlow 2.x; %tensorflow_version has no effect.\n"
          ]
        }
      ],
      "source": [
        "%tensorflow_version 2.x\n",
        "import tensorflow as tf\n",
        "from tensorflow import keras\n",
        "from tensorflow.keras.layers import Dense, GlobalAveragePooling2D\n",
        "from tensorflow.keras.models import Model\n",
        "from tensorflow.keras.optimizers import Adam\n",
        "from tensorflow.keras.metrics import categorical_crossentropy\n",
        "from tensorflow.keras.preprocessing.image import ImageDataGenerator\n",
        "from sklearn.metrics import ConfusionMatrixDisplay\n",
        "from sklearn.metrics import confusion_matrix"
      ]
    },
    {
      "cell_type": "code",
      "source": [
        "train_path=\"/content/drive/MyDrive/dataset/train\"\n",
        "validation_path=\"/content/drive/MyDrive/dataset/validation\"\n",
        "test_path=\"/content/drive/MyDrive/dataset/test\""
      ],
      "metadata": {
        "id": "7yvWMc6zJj0C"
      },
      "execution_count": null,
      "outputs": []
    },
    {
      "cell_type": "code",
      "source": [
        "train_batches = tf.keras.utils.image_dataset_from_directory(train_path,\n",
        "                                                            shuffle=True,\n",
        "                                                            batch_size = 32,\n",
        "                                                            image_size = (224,224))\n",
        "\n",
        "validation_batches = tf.keras.utils.image_dataset_from_directory(validation_path,\n",
        "                                                            shuffle=True,\n",
        "                                                            batch_size = 32,\n",
        "                                                            image_size = (224,224))\n",
        "\n",
        "test_batches = tf.keras.utils.image_dataset_from_directory(test_path,\n",
        "                                                            shuffle=False,\n",
        "                                                            batch_size = 32,\n",
        "                                                            image_size = (224,224))"
      ],
      "metadata": {
        "colab": {
          "base_uri": "https://localhost:8080/"
        },
        "id": "sTaEJZK1Jmga",
        "outputId": "1fc63c12-6637-4f56-88e7-1e9e63b301ac"
      },
      "execution_count": null,
      "outputs": [
        {
          "output_type": "stream",
          "name": "stdout",
          "text": [
            "Found 350 files belonging to 5 classes.\n",
            "Found 100 files belonging to 5 classes.\n",
            "Found 50 files belonging to 5 classes.\n"
          ]
        }
      ]
    },
    {
      "cell_type": "code",
      "source": [
        "IMG_SHAPE = (224,224,3)\n",
        "base_model = tf.keras.applications.MobileNetV2(include_top=False,\n",
        "                                               weights= 'imagenet',\n",
        "                                               input_shape = IMG_SHAPE)"
      ],
      "metadata": {
        "id": "WK013Nx6JpVS"
      },
      "execution_count": null,
      "outputs": []
    },
    {
      "cell_type": "code",
      "source": [
        "base_model.trainable=False"
      ],
      "metadata": {
        "id": "uvrA8yyUJryK"
      },
      "execution_count": null,
      "outputs": []
    },
    {
      "cell_type": "code",
      "source": [
        "preprocess_input = tf.keras.applications.mobilenet_v2.preprocess_input"
      ],
      "metadata": {
        "id": "djnqBVGvJuoi"
      },
      "execution_count": null,
      "outputs": []
    },
    {
      "cell_type": "code",
      "source": [
        "inputs = tf.keras.Input(shape=(224, 224, 3))\n",
        "x = preprocess_input(inputs)\n",
        "x = base_model(x, training=False)\n",
        "x = GlobalAveragePooling2D()(x)\n",
        "x = tf.keras.layers.Dropout(0.2)(x)\n",
        "x = Dense(512, activation='relu')(x)\n",
        "x = tf.keras.layers.Dropout(0.1)(x)\n",
        "preds = Dense(5, activation='softmax')(x)\n",
        "\n",
        "model=Model(inputs, preds)"
      ],
      "metadata": {
        "id": "ZGs5gXphJ2Rj"
      },
      "execution_count": null,
      "outputs": []
    },
    {
      "cell_type": "code",
      "source": [
        "epochs = 10\n",
        "optimizer=Adam(learning_rate=0.0001)\n",
        "model.compile(loss='sparse_categorical_crossentropy', optimizer=optimizer, metrics=['accuracy'])"
      ],
      "metadata": {
        "id": "TXEXhvIUKPcT"
      },
      "execution_count": null,
      "outputs": []
    },
    {
      "cell_type": "code",
      "source": [
        "history = model.fit(train_batches, validation_data=validation_batches, epochs=epochs)"
      ],
      "metadata": {
        "colab": {
          "base_uri": "https://localhost:8080/"
        },
        "id": "61qV7ylaKY7s",
        "outputId": "90427553-6d8a-48bb-df43-0b57c66a8e2e"
      },
      "execution_count": null,
      "outputs": [
        {
          "output_type": "stream",
          "name": "stdout",
          "text": [
            "Epoch 1/10\n",
            "11/11 [==============================] - 25s 2s/step - loss: 1.5862 - accuracy: 0.3543 - val_loss: 1.0824 - val_accuracy: 0.6300\n",
            "Epoch 2/10\n",
            "11/11 [==============================] - 19s 1s/step - loss: 0.8202 - accuracy: 0.7771 - val_loss: 0.5715 - val_accuracy: 0.9100\n",
            "Epoch 3/10\n",
            "11/11 [==============================] - 20s 2s/step - loss: 0.4719 - accuracy: 0.9114 - val_loss: 0.3531 - val_accuracy: 0.9500\n",
            "Epoch 4/10\n",
            "11/11 [==============================] - 21s 2s/step - loss: 0.2629 - accuracy: 0.9657 - val_loss: 0.2487 - val_accuracy: 0.9600\n",
            "Epoch 5/10\n",
            "11/11 [==============================] - 20s 2s/step - loss: 0.1944 - accuracy: 0.9714 - val_loss: 0.1937 - val_accuracy: 0.9700\n",
            "Epoch 6/10\n",
            "11/11 [==============================] - 20s 2s/step - loss: 0.1553 - accuracy: 0.9857 - val_loss: 0.1672 - val_accuracy: 0.9800\n",
            "Epoch 7/10\n",
            "11/11 [==============================] - 20s 2s/step - loss: 0.1074 - accuracy: 0.9914 - val_loss: 0.1416 - val_accuracy: 0.9800\n",
            "Epoch 8/10\n",
            "11/11 [==============================] - 20s 2s/step - loss: 0.0932 - accuracy: 0.9886 - val_loss: 0.1255 - val_accuracy: 0.9700\n",
            "Epoch 9/10\n",
            "11/11 [==============================] - 20s 2s/step - loss: 0.0756 - accuracy: 0.9971 - val_loss: 0.1157 - val_accuracy: 0.9800\n",
            "Epoch 10/10\n",
            "11/11 [==============================] - 20s 2s/step - loss: 0.0680 - accuracy: 0.9914 - val_loss: 0.1089 - val_accuracy: 0.9800\n"
          ]
        }
      ]
    },
    {
      "cell_type": "code",
      "source": [
        "model.evaluate(test_batches, verbose=2)"
      ],
      "metadata": {
        "colab": {
          "base_uri": "https://localhost:8080/"
        },
        "id": "af_3gP9uLm28",
        "outputId": "d5a74643-e2a6-4263-e45d-81c87c578322"
      },
      "execution_count": null,
      "outputs": [
        {
          "output_type": "stream",
          "name": "stdout",
          "text": [
            "2/2 - 2s - loss: 0.0795 - accuracy: 0.9800 - 2s/epoch - 1s/step\n"
          ]
        },
        {
          "output_type": "execute_result",
          "data": {
            "text/plain": [
              "[0.07953497022390366, 0.9800000190734863]"
            ]
          },
          "metadata": {},
          "execution_count": 78
        }
      ]
    },
    {
      "cell_type": "code",
      "source": [
        "test_labels = tf.concat([y for x, y in test_batches], axis=0)\n",
        "preds = model.predict(test_batches, verbose=0)\n",
        "cm = confusion_matrix(y_true=test_labels, y_pred=preds.argmax(axis=1))"
      ],
      "metadata": {
        "id": "h9OYSljxLyzL"
      },
      "execution_count": null,
      "outputs": []
    },
    {
      "cell_type": "code",
      "source": [
        "cm_plot_labels = ['chi', 'dra', 'orc', 'rub', 'sna']\n",
        "disp = ConfusionMatrixDisplay(confusion_matrix=cm, display_labels=cm_plot_labels)\n",
        "disp.plot()"
      ],
      "metadata": {
        "colab": {
          "base_uri": "https://localhost:8080/",
          "height": 300
        },
        "id": "Cz6vDNncL1sq",
        "outputId": "3a994af4-3c5e-4447-93d5-5d2f41fbf156"
      },
      "execution_count": null,
      "outputs": [
        {
          "output_type": "execute_result",
          "data": {
            "text/plain": [
              "<sklearn.metrics._plot.confusion_matrix.ConfusionMatrixDisplay at 0x7fd33f1c5410>"
            ]
          },
          "metadata": {},
          "execution_count": 80
        },
        {
          "output_type": "display_data",
          "data": {
            "text/plain": [
              "<Figure size 432x288 with 2 Axes>"
            ],
            "image/png": "[encoded data removed]"
          },
          "metadata": {
            "needs_background": "light"
          }
        }
      ]
    },
    {
      "cell_type": "code",
      "source": [
        "# Plot model performance \n",
        "import matplotlib.pylab as plt\n",
        "acc = history.history['accuracy']\n",
        "val_accuracy = history.history['val_accuracy']\n",
        "loss = history.history['loss']\n",
        "val_loss = history.history['val_loss']\n",
        "\n",
        "\n",
        "plt.plot(acc, label='Training Accuracy')\n",
        "plt.plot(val_accuracy, label='Validation Accuracy')\n",
        "plt.ylabel('Accuracy')\n",
        "plt.xlabel('Epoch')\n",
        "plt.title('Model Accuracy')\n",
        "plt.legend(loc='lower right')\n",
        "plt.show()\n",
        "\n",
        "plt.plot(loss, label='Training Loss')\n",
        "plt.plot(val_loss, label='Validation Loss')\n",
        "plt.ylabel('Loss')\n",
        "plt.xlabel('Epoch')\n",
        "plt.title('Model Loss')\n",
        "plt.legend(loc='upper right')\n",
        "plt.show()"
      ],
      "metadata": {
        "colab": {
          "base_uri": "https://localhost:8080/",
          "height": 573
        },
        "id": "fqgVzq-1L-5i",
        "outputId": "95cf3a0c-fa53-41fa-98ed-e8f33b1228e6"
      },
      "execution_count": null,
      "outputs": [
        {
          "output_type": "display_data",
          "data": {
            "text/plain": [
              "<Figure size 432x288 with 1 Axes>"
            ],
            "image/png": "[encoded data removed]"
          },
          "metadata": {
            "needs_background": "light"
          }
        },
        {
          "output_type": "display_data",
          "data": {
            "text/plain": [
              "<Figure size 432x288 with 1 Axes>"
            ],
            "image/png": "[encoded data removed]"
          },
          "metadata": {
            "needs_background": "light"
          }
        }
      ]
    },
    {
      "cell_type": "code",
      "source": [
        "converter = tf.lite.TFLiteConverter.from_keras_model(model)\n",
        "tflite_model = converter.convert()\n",
        "\n",
        "with open (\"model1.tflite\", 'wb') as f:\n",
        "  f.write(tflite_model)"
      ],
      "metadata": {
        "colab": {
          "base_uri": "https://localhost:8080/"
        },
        "id": "CoHiLxMC-P4q",
        "outputId": "fc91e0db-64e4-4fb5-9ca4-f0e422dd845f"
      },
      "execution_count": null,
      "outputs": [
        {
          "output_type": "stream",
          "name": "stderr",
          "text": [
            "WARNING:absl:Found untraced functions such as _jit_compiled_convolution_op, _jit_compiled_convolution_op, _jit_compiled_convolution_op, _jit_compiled_convolution_op, _jit_compiled_convolution_op while saving (showing 5 of 52). These functions will not be directly callable after loading.\n"
          ]
        }
      ]
    },
    {
      "cell_type": "code",
      "source": [
        "plant_model = \"/content/drive/MyDrive/model_1\"\n",
        "tf.keras.models.save_model(model, plant_model)"
      ],
      "metadata": {
        "colab": {
          "base_uri": "https://localhost:8080/"
        },
        "id": "ENcWMEteHaRC",
        "outputId": "e10fe324-e3cb-44b2-cad9-bb43da3adf52"
      },
      "execution_count": null,
      "outputs": [
        {
          "output_type": "stream",
          "name": "stderr",
          "text": [
            "WARNING:absl:Found untraced functions such as _jit_compiled_convolution_op, _jit_compiled_convolution_op, _jit_compiled_convolution_op, _jit_compiled_convolution_op, _jit_compiled_convolution_op while saving (showing 5 of 52). These functions will not be directly callable after loading.\n"
          ]
        }
      ]
    }
  ]
}