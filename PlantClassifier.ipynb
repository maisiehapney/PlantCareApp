{
  "nbformat": 4,
  "nbformat_minor": 0,
  "metadata": {
    "colab": {
      "provenance": [],
      "collapsed_sections": []
    },
    "kernelspec": {
      "name": "python3",
      "display_name": "Python 3"
    },
    "language_info": {
      "name": "python"
    }
  },
  "cells": [
    {
      "cell_type": "code",
      "execution_count": 17,
      "metadata": {
        "colab": {
          "base_uri": "https://localhost:8080/"
        },
        "id": "T2HKlMfPN9px",
        "outputId": "c76c17b5-571c-4c05-800f-8efb09654faa"
      },
      "outputs": [
        {
          "output_type": "stream",
          "name": "stdout",
          "text": [
            "Colab only includes TensorFlow 2.x; %tensorflow_version has no effect.\n"
          ]
        }
      ],
      "source": [
        "%tensorflow_version 2.x\n",
        "import tensorflow as tf\n",
        "from tensorflow import keras\n",
        "from tensorflow.keras.layers import Dense, GlobalAveragePooling2D\n",
        "from tensorflow.keras.models import Model\n",
        "from tensorflow.keras.optimizers import Adam\n",
        "from tensorflow.keras.metrics import categorical_crossentropy\n",
        "from tensorflow.keras.preprocessing.image import ImageDataGenerator\n",
        "from sklearn.metrics import ConfusionMatrixDisplay\n",
        "from sklearn.metrics import confusion_matrix\n",
        "\n"
      ]
    },
    {
      "cell_type": "code",
      "source": [
        "train_path=\"/content/drive/MyDrive/dataset/train\"\n",
        "validation_path=\"/content/drive/MyDrive/dataset/validation\"\n",
        "test_path=\"/content/drive/MyDrive/dataset/test\""
      ],
      "metadata": {
        "id": "Xteli4B1OFJM"
      },
      "execution_count": 2,
      "outputs": []
    },
    {
      "cell_type": "code",
      "source": [
        "train_batches = ImageDataGenerator(preprocessing_function = keras.applications.mobilenet_v2.preprocess_input).flow_from_directory(train_path, target_size=(224,224), batch_size=32)\n",
        "validation_batches = ImageDataGenerator(preprocessing_function = keras.applications.mobilenet_v2.preprocess_input).flow_from_directory(validation_path, target_size=(224,224), batch_size=32)\n",
        "test_batches = ImageDataGenerator(preprocessing_function = keras.applications.mobilenet_v2.preprocess_input).flow_from_directory(test_path, target_size=(224,224), batch_size=32, shuffle=False)"
      ],
      "metadata": {
        "colab": {
          "base_uri": "https://localhost:8080/"
        },
        "id": "ZOLGaNtqOIU8",
        "outputId": "090c39ba-c685-4fa6-80dc-9bf64d3656de"
      },
      "execution_count": 52,
      "outputs": [
        {
          "output_type": "stream",
          "name": "stdout",
          "text": [
            "Found 350 images belonging to 5 classes.\n",
            "Found 100 images belonging to 5 classes.\n",
            "Found 50 images belonging to 5 classes.\n"
          ]
        }
      ]
    },
    {
      "cell_type": "code",
      "source": [
        "IMG_SHAPE = (224,224,3)\n",
        "base_model = tf.keras.applications.MobileNetV2(include_top=False,\n",
        "                                               weights= 'imagenet')\n",
        "\n",
        "x = base_model.output\n",
        "x = GlobalAveragePooling2D()(x)\n",
        "x = Dense(512, activation='relu')(x)\n",
        "x = Dense(256, activation='relu')(x)\n",
        "x = Dense(128, activation='relu')(x)\n",
        "preds = Dense(5, activation='softmax')(x)\n",
        "\n",
        "model=Model(inputs=base_model.input, outputs=preds)"
      ],
      "metadata": {
        "colab": {
          "base_uri": "https://localhost:8080/"
        },
        "id": "Gnilt0CxOLA5",
        "outputId": "2e3221c3-7a92-4395-c7dc-25f64e789ca6"
      },
      "execution_count": 53,
      "outputs": [
        {
          "output_type": "stream",
          "name": "stderr",
          "text": [
            "WARNING:tensorflow:`input_shape` is undefined or non-square, or `rows` is not in [96, 128, 160, 192, 224]. Weights for input shape (224, 224) will be loaded as the default.\n"
          ]
        }
      ]
    },
    {
      "cell_type": "code",
      "source": [
        "model.summary()"
      ],
      "metadata": {
        "id": "eD75_6jUVUMt"
      },
      "execution_count": null,
      "outputs": []
    },
    {
      "cell_type": "code",
      "source": [
        "for layers in model.layers[:-5]:\n",
        "  layers.trainable=False"
      ],
      "metadata": {
        "id": "l8i7uT5WXARo"
      },
      "execution_count": 54,
      "outputs": []
    },
    {
      "cell_type": "code",
      "source": [
        "model.summary()"
      ],
      "metadata": {
        "id": "lzW-Iq6bXPef"
      },
      "execution_count": null,
      "outputs": []
    },
    {
      "cell_type": "code",
      "source": [
        "epochs = 10\n",
        "optimizer=Adam(learning_rate=0.0001)\n",
        "model.compile(loss='categorical_crossentropy', optimizer=optimizer, metrics=['accuracy'])\n",
        "model.fit(train_batches, validation_data=validation_batches, epochs=epochs)"
      ],
      "metadata": {
        "colab": {
          "base_uri": "https://localhost:8080/"
        },
        "id": "UqAxCMOnXfAY",
        "outputId": "9e7851f5-7e81-4d39-a642-96a9c138c32a"
      },
      "execution_count": 55,
      "outputs": [
        {
          "output_type": "stream",
          "name": "stdout",
          "text": [
            "Epoch 1/10\n",
            "11/11 [==============================] - 19s 2s/step - loss: 1.3695 - accuracy: 0.4971 - val_loss: 0.9825 - val_accuracy: 0.8900\n",
            "Epoch 2/10\n",
            "11/11 [==============================] - 14s 1s/step - loss: 0.7330 - accuracy: 0.9371 - val_loss: 0.5183 - val_accuracy: 0.9500\n",
            "Epoch 3/10\n",
            "11/11 [==============================] - 14s 1s/step - loss: 0.3481 - accuracy: 0.9857 - val_loss: 0.2715 - val_accuracy: 0.9800\n",
            "Epoch 4/10\n",
            "11/11 [==============================] - 14s 1s/step - loss: 0.1631 - accuracy: 0.9971 - val_loss: 0.1608 - val_accuracy: 0.9900\n",
            "Epoch 5/10\n",
            "11/11 [==============================] - 14s 1s/step - loss: 0.0858 - accuracy: 0.9971 - val_loss: 0.1173 - val_accuracy: 0.9900\n",
            "Epoch 6/10\n",
            "11/11 [==============================] - 14s 1s/step - loss: 0.0548 - accuracy: 1.0000 - val_loss: 0.1013 - val_accuracy: 0.9900\n",
            "Epoch 7/10\n",
            "11/11 [==============================] - 15s 1s/step - loss: 0.0348 - accuracy: 1.0000 - val_loss: 0.0865 - val_accuracy: 0.9900\n",
            "Epoch 8/10\n",
            "11/11 [==============================] - 14s 1s/step - loss: 0.0235 - accuracy: 1.0000 - val_loss: 0.0817 - val_accuracy: 0.9800\n",
            "Epoch 9/10\n",
            "11/11 [==============================] - 14s 1s/step - loss: 0.0183 - accuracy: 1.0000 - val_loss: 0.0762 - val_accuracy: 0.9900\n",
            "Epoch 10/10\n",
            "11/11 [==============================] - 15s 1s/step - loss: 0.0143 - accuracy: 1.0000 - val_loss: 0.0742 - val_accuracy: 0.9900\n"
          ]
        },
        {
          "output_type": "execute_result",
          "data": {
            "text/plain": [
              "<keras.callbacks.History at 0x7f924c3a5490>"
            ]
          },
          "metadata": {},
          "execution_count": 55
        }
      ]
    },
    {
      "cell_type": "code",
      "source": [
        "test_labels = test_batches.classes\n",
        "preds = model.predict(test_batches, verbose=0)\n",
        "cm = confusion_matrix(y_true=test_labels, y_pred=preds.argmax(axis=1))\n",
        "test_batches.class_indices"
      ],
      "metadata": {
        "colab": {
          "base_uri": "https://localhost:8080/"
        },
        "id": "EYJpkh8eYADb",
        "outputId": "a351c49f-b0c3-43d0-c7be-fe2e9efac788"
      },
      "execution_count": 56,
      "outputs": [
        {
          "output_type": "execute_result",
          "data": {
            "text/plain": [
              "{'chinesemoneyplant': 0,\n",
              " 'dragontree': 1,\n",
              " 'orchid': 2,\n",
              " 'rubberplant': 3,\n",
              " 'snakeplant': 4}"
            ]
          },
          "metadata": {},
          "execution_count": 56
        }
      ]
    },
    {
      "cell_type": "code",
      "source": [
        "cm_plot_labels = ['chi', 'dra', 'orc', 'rub', 'sna']\n",
        "disp = ConfusionMatrixDisplay(confusion_matrix=cm, display_labels=cm_plot_labels)\n",
        "disp.plot()"
      ],
      "metadata": {
        "colab": {
          "base_uri": "https://localhost:8080/",
          "height": 300
        },
        "id": "nhgsYylcZhQa",
        "outputId": "c00668cd-728e-4e69-9236-d36a224a387b"
      },
      "execution_count": 57,
      "outputs": [
        {
          "output_type": "execute_result",
          "data": {
            "text/plain": [
              "<sklearn.metrics._plot.confusion_matrix.ConfusionMatrixDisplay at 0x7f924cd24850>"
            ]
          },
          "metadata": {},
          "execution_count": 57
        },
        {
          "output_type": "display_data",
          "data": {
            "text/plain": [
              "<Figure size 432x288 with 2 Axes>"
            ],
            "image/png": "[encoded data removed]"
          },
          "metadata": {
            "needs_background": "light"
          }
        }
      ]
    }
  ]
}