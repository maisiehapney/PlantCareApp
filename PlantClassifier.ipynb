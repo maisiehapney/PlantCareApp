{
  "nbformat": 4,
  "nbformat_minor": 0,
  "metadata": {
    "colab": {
      "provenance": []
    },
    "kernelspec": {
      "name": "python3",
      "display_name": "Python 3"
    },
    "language_info": {
      "name": "python"
    }
  },
  "cells": [
    {
      "cell_type": "code",
      "execution_count": null,
      "metadata": {
        "colab": {
          "base_uri": "https://localhost:8080/"
        },
        "id": "IbSXF3tDMpLh",
        "outputId": "d0fc235d-2cd7-44ee-853a-bf495c081667"
      },
      "outputs": [
        {
          "output_type": "stream",
          "name": "stdout",
          "text": [
            "Colab only includes TensorFlow 2.x; %tensorflow_version has no effect.\n"
          ]
        }
      ],
      "source": [
        "%tensorflow_version 2.x\n",
        "import tensorflow as tf\n",
        "from tensorflow import keras\n",
        "from tensorflow.keras.layers import Dense, GlobalAveragePooling2D\n",
        "from tensorflow.keras.models import Model\n",
        "from tensorflow.keras.optimizers import Adam\n",
        "from tensorflow.keras.metrics import categorical_crossentropy\n",
        "from tensorflow.keras.preprocessing.image import ImageDataGenerator\n",
        "from sklearn.metrics import ConfusionMatrixDisplay\n",
        "from sklearn.metrics import confusion_matrix"
      ]
    },
    {
      "cell_type": "code",
      "source": [
        "train_path=\"/content/drive/MyDrive/plant_dataset/train\"\n",
        "validation_path=\"/content/drive/MyDrive/plant_dataset/validation\"\n",
        "test_path=\"/content/drive/MyDrive/plant_dataset/test\""
      ],
      "metadata": {
        "id": "OCKDJQQhM-LX"
      },
      "execution_count": null,
      "outputs": []
    },
    {
      "cell_type": "code",
      "source": [
        "train_batches = tf.keras.utils.image_dataset_from_directory(train_path,\n",
        "                                                            shuffle=True,\n",
        "                                                            batch_size = 32,\n",
        "                                                            image_size = (224,224))\n",
        "\n",
        "validation_batches = tf.keras.utils.image_dataset_from_directory(validation_path,\n",
        "                                                            shuffle=True,\n",
        "                                                            batch_size = 32,\n",
        "                                                            image_size = (224,224))\n",
        "\n",
        "test_batches = tf.keras.utils.image_dataset_from_directory(test_path,\n",
        "                                                            shuffle=False,\n",
        "                                                            batch_size = 32,\n",
        "                                                            image_size = (224,224))"
      ],
      "metadata": {
        "colab": {
          "base_uri": "https://localhost:8080/"
        },
        "id": "_ZOurl2zNPhx",
        "outputId": "7f2823ac-ca47-4e7e-afcc-52287c4f7a89"
      },
      "execution_count": null,
      "outputs": [
        {
          "output_type": "stream",
          "name": "stdout",
          "text": [
            "Found 700 files belonging to 10 classes.\n",
            "Found 200 files belonging to 10 classes.\n",
            "Found 100 files belonging to 10 classes.\n"
          ]
        }
      ]
    },
    {
      "cell_type": "code",
      "source": [
        "IMG_SHAPE = (224,224,3)\n",
        "base_model = tf.keras.applications.MobileNetV2(include_top=False,\n",
        "                                               weights= 'imagenet',\n",
        "                                               input_shape = IMG_SHAPE)"
      ],
      "metadata": {
        "id": "h4yfzTOeNS36"
      },
      "execution_count": null,
      "outputs": []
    },
    {
      "cell_type": "code",
      "source": [
        "base_model.trainable=False"
      ],
      "metadata": {
        "id": "AC4NR8TgRwUV"
      },
      "execution_count": null,
      "outputs": []
    },
    {
      "cell_type": "code",
      "source": [
        "preprocess_input = tf.keras.applications.mobilenet_v2.preprocess_input"
      ],
      "metadata": {
        "id": "2cpL5ZR0R3ZD"
      },
      "execution_count": null,
      "outputs": []
    },
    {
      "cell_type": "code",
      "source": [
        "inputs = tf.keras.Input(shape=(224, 224, 3))\n",
        "x = preprocess_input(inputs)\n",
        "x = base_model(x, training=False)\n",
        "x = GlobalAveragePooling2D()(x)\n",
        "x = tf.keras.layers.Dropout(0.2)(x)\n",
        "x = Dense(512, activation='relu')(x)\n",
        "x = tf.keras.layers.Dropout(0.1)(x)\n",
        "preds = Dense(10, activation='softmax')(x)\n",
        "\n",
        "model=Model(inputs, preds)"
      ],
      "metadata": {
        "id": "w2rxk-A3R5xb"
      },
      "execution_count": null,
      "outputs": []
    },
    {
      "cell_type": "code",
      "source": [
        "epochs = 10\n",
        "optimizer=Adam(learning_rate=0.0001)\n",
        "model.compile(loss='sparse_categorical_crossentropy', optimizer=optimizer, metrics=['accuracy'])"
      ],
      "metadata": {
        "id": "nw8sHFXrR-GP"
      },
      "execution_count": null,
      "outputs": []
    },
    {
      "cell_type": "code",
      "source": [
        "history = model.fit(train_batches, validation_data=validation_batches, epochs=epochs)"
      ],
      "metadata": {
        "colab": {
          "base_uri": "https://localhost:8080/"
        },
        "id": "R_fXqj8TSA4m",
        "outputId": "1c609314-d791-4435-da08-4e0be1b8be6f"
      },
      "execution_count": null,
      "outputs": [
        {
          "output_type": "stream",
          "name": "stdout",
          "text": [
            "Epoch 1/10\n",
            "22/22 [==============================] - 49s 2s/step - loss: 2.0469 - accuracy: 0.3014 - val_loss: 1.4064 - val_accuracy: 0.6900\n",
            "Epoch 2/10\n",
            "22/22 [==============================] - 44s 2s/step - loss: 1.1451 - accuracy: 0.7429 - val_loss: 0.8167 - val_accuracy: 0.8800\n",
            "Epoch 3/10\n",
            "22/22 [==============================] - 42s 2s/step - loss: 0.6828 - accuracy: 0.8757 - val_loss: 0.5289 - val_accuracy: 0.9150\n",
            "Epoch 4/10\n",
            "22/22 [==============================] - 43s 2s/step - loss: 0.4272 - accuracy: 0.9429 - val_loss: 0.3799 - val_accuracy: 0.9450\n",
            "Epoch 5/10\n",
            "22/22 [==============================] - 42s 2s/step - loss: 0.2938 - accuracy: 0.9671 - val_loss: 0.2981 - val_accuracy: 0.9550\n",
            "Epoch 6/10\n",
            "22/22 [==============================] - 42s 2s/step - loss: 0.2277 - accuracy: 0.9714 - val_loss: 0.2513 - val_accuracy: 0.9600\n",
            "Epoch 7/10\n",
            "22/22 [==============================] - 42s 2s/step - loss: 0.1690 - accuracy: 0.9814 - val_loss: 0.2187 - val_accuracy: 0.9500\n",
            "Epoch 8/10\n",
            "22/22 [==============================] - 44s 2s/step - loss: 0.1402 - accuracy: 0.9886 - val_loss: 0.1937 - val_accuracy: 0.9700\n",
            "Epoch 9/10\n",
            "22/22 [==============================] - 42s 2s/step - loss: 0.1154 - accuracy: 0.9886 - val_loss: 0.1794 - val_accuracy: 0.9750\n",
            "Epoch 10/10\n",
            "22/22 [==============================] - 43s 2s/step - loss: 0.1012 - accuracy: 0.9929 - val_loss: 0.1641 - val_accuracy: 0.9750\n"
          ]
        }
      ]
    },
    {
      "cell_type": "code",
      "source": [
        "model.evaluate(test_batches, verbose=2)"
      ],
      "metadata": {
        "colab": {
          "base_uri": "https://localhost:8080/"
        },
        "id": "rxMHOgpuXeVq",
        "outputId": "43d5dde3-260b-4bd1-df65-87f93a51dfb0"
      },
      "execution_count": null,
      "outputs": [
        {
          "output_type": "stream",
          "name": "stdout",
          "text": [
            "4/4 - 5s - loss: 0.1026 - accuracy: 0.9800 - 5s/epoch - 1s/step\n"
          ]
        },
        {
          "output_type": "execute_result",
          "data": {
            "text/plain": [
              "[0.1025933101773262, 0.9800000190734863]"
            ]
          },
          "metadata": {},
          "execution_count": 21
        }
      ]
    },
    {
      "cell_type": "code",
      "source": [
        "test_labels = tf.concat([y for x, y in test_batches], axis=0)\n",
        "preds = model.predict(test_batches, verbose=0)\n",
        "cm = confusion_matrix(y_true=test_labels, y_pred=preds.argmax(axis=1))"
      ],
      "metadata": {
        "id": "fEeTy-MNXmQv"
      },
      "execution_count": null,
      "outputs": []
    },
    {
      "cell_type": "code",
      "source": [
        "cm_plot_labels = ['bos', 'cac', 'chi', 'dra', 'jad', 'orc', 'peace', 'pea', 'rub', 'sna']\n",
        "disp = ConfusionMatrixDisplay(confusion_matrix=cm, display_labels=cm_plot_labels)\n",
        "disp.plot()"
      ],
      "metadata": {
        "colab": {
          "base_uri": "https://localhost:8080/",
          "height": 300
        },
        "id": "P6HDr4K_Xpui",
        "outputId": "a056eab9-6916-44d4-b421-7a2815cc552d"
      },
      "execution_count": null,
      "outputs": [
        {
          "output_type": "execute_result",
          "data": {
            "text/plain": [
              "<sklearn.metrics._plot.confusion_matrix.ConfusionMatrixDisplay at 0x7fe6b128b220>"
            ]
          },
          "metadata": {},
          "execution_count": 23
        },
        {
          "output_type": "display_data",
          "data": {
            "text/plain": [
              "<Figure size 432x288 with 2 Axes>"
            ],
            "image/png": "[encoded data removed]"
          },
          "metadata": {
            "needs_background": "light"
          }
        }
      ]
    },
    {
      "cell_type": "code",
      "source": [
        "# Plot model performance \n",
        "import matplotlib.pylab as plt\n",
        "acc = history.history['accuracy']\n",
        "val_accuracy = history.history['val_accuracy']\n",
        "loss = history.history['loss']\n",
        "val_loss = history.history['val_loss']\n",
        "\n",
        "\n",
        "plt.plot(acc, label='Training Accuracy')\n",
        "plt.plot(val_accuracy, label='Validation Accuracy')\n",
        "plt.ylabel('Accuracy')\n",
        "plt.xlabel('Epoch')\n",
        "plt.title('Model Accuracy')\n",
        "plt.legend(loc='lower right')\n",
        "plt.show()\n",
        "\n",
        "plt.plot(loss, label='Training Loss')\n",
        "plt.plot(val_loss, label='Validation Loss')\n",
        "plt.ylabel('Loss')\n",
        "plt.xlabel('Epoch')\n",
        "plt.title('Model Loss')\n",
        "plt.legend(loc='upper right')\n",
        "plt.show()"
      ],
      "metadata": {
        "colab": {
          "base_uri": "https://localhost:8080/",
          "height": 573
        },
        "id": "YKSaJpr4bj_K",
        "outputId": "87c55482-e6d9-43e4-d2d8-c76649e1d0d7"
      },
      "execution_count": null,
      "outputs": [
        {
          "output_type": "display_data",
          "data": {
            "text/plain": [
              "<Figure size 432x288 with 1 Axes>"
            ],
            "image/png": "[encoded data removed]"
          },
          "metadata": {
            "needs_background": "light"
          }
        },
        {
          "output_type": "display_data",
          "data": {
            "text/plain": [
              "<Figure size 432x288 with 1 Axes>"
            ],
            "image/png": "[encoded data removed]"
          },
          "metadata": {
            "needs_background": "light"
          }
        }
      ]
    },
    {
      "cell_type": "code",
      "source": [
        "converter = tf.lite.TFLiteConverter.from_keras_model(model)\n",
        "tflite_model = converter.convert()\n",
        "\n",
        "with open (\"model2.tflite\", 'wb') as f:\n",
        "  f.write(tflite_model)"
      ],
      "metadata": {
        "colab": {
          "base_uri": "https://localhost:8080/"
        },
        "id": "hiKL-Dv8bn5j",
        "outputId": "b582371f-6a25-4275-c432-9feecb29640e"
      },
      "execution_count": null,
      "outputs": [
        {
          "output_type": "stream",
          "name": "stderr",
          "text": [
            "WARNING:absl:Found untraced functions such as _jit_compiled_convolution_op, _jit_compiled_convolution_op, _jit_compiled_convolution_op, _jit_compiled_convolution_op, _jit_compiled_convolution_op while saving (showing 5 of 52). These functions will not be directly callable after loading.\n"
          ]
        }
      ]
    }
  ]
}